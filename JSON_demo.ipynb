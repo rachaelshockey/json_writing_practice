{
 "cells": [
  {
   "cell_type": "markdown",
   "metadata": {},
   "source": [
    "JSON encoding explanation on [python.org](https://docs.python.org/3/library/json.html)\n",
    "\n",
    "JSON syntax [explanation and flowchart](https://www.json.org/json-en.html)"
   ]
  },
  {
   "cell_type": "code",
   "execution_count": 8,
   "metadata": {},
   "outputs": [
    {
     "name": "stdout",
     "output_type": "stream",
     "text": [
      "{\"Jake Goes Boating\": \"Java: Might We Be Friends Project\", \"War Games\": \"Javaoo: Password strength checking\", \"Dark Waters\": \"Python 2: Processing of Toxic Release Inventory data\", \"Python Holy Grail Clips?\": false, \"Film length\": 4.568, \"film count\": 7, \"Books\": [\"Intro to Python by Deitel\", [\"The C++ Programming Language\", \"Intro to Programming with C\"]], \"Dictionary dictionary\": {\"a\": 1, \"b\": 2, \"c\": 3}}\n"
     ]
    }
   ],
   "source": [
    "import json\n",
    "\n",
    "# create data structure in Python to encode/serialize into JSON spec \n",
    "# friendly text\n",
    "\n",
    "course_films = {}\n",
    "course_films['Jake Goes Boating'] = 'Java: Might We Be Friends Project'\n",
    "course_films['War Games'] = 'Javaoo: Password strength checking'\n",
    "course_films['Dark Waters'] = 'Python 2: Processing of Toxic Release Inventory data'\n",
    "# demo values that are boolean literals\n",
    "course_films[\"Python Holy Grail Clips?\"] = False\n",
    "# demo values that are real numbers\n",
    "course_films[\"Film length\"] = 4.568\n",
    "course_films[\"film count\"] = 7\n",
    "# demo JSON encoding of lists and tuples\n",
    "course_films[\"Books\"] = ['Intro to Python by Deitel', (\"The C++ Programming Language\", \n",
    "\"Intro to Programming with C\")]\n",
    "course_films[\"Dictionary dictionary\"] = {'a': 1, 'b': 2, 'c': 3}\n",
    "# pass native python object to json.dumps i.e. dump string and see its\n",
    "# structure\n",
    "print(json.dumps(course_films))\n",
    "\n",
    "# JSON is most useful when the string makes it into a file for actual \n",
    "# data exchange\n",
    "\n",
    "# create file with the conventional .json ending, and then use our write\n",
    "# methods to ship our the returned json encoced string by json.dumps\n",
    "with open('course_films.json', 'w') as film_file:\n",
    "    film_file.write(json.dumps(course_films))\n",
    "    # successfully wrote a .json version of the code above to this \n",
    "    # file location on my desktop!"
   ]
  },
  {
   "cell_type": "code",
   "execution_count": null,
   "metadata": {},
   "outputs": [],
   "source": [
    "# json calls for double quotes only, as you can see in the output above\n",
    "# changes letter case (\"False\" to false\")\n",
    "# turns tuples into regular lists\n"
   ]
  },
  {
   "cell_type": "code",
   "execution_count": null,
   "metadata": {},
   "outputs": [],
   "source": [
    "# Instructions from class session for translating a json file back to python - Two possible ways\n",
    "\n",
    "# create a variable to hold our fresh python object\n",
    "new_object = {}\n",
    "\n",
    "# Option 1: json.load\n",
    "with open ('filename.json', 'r') as obj_file:\n",
    "    # deserialize json file. note that json.load takes an entire file obj and manages the \n",
    "    # reading of that file internally\n",
    "    new_object = json.load(obj_file)\n",
    "# iterate over our dictionary we got from the JSON file\n",
    "# with our familiar python objects\n",
    "for item in new_object:\n",
    "    print(item, \":\", new_pbject[object])\n",
    "    \n",
    "# Option 2: json.loads <- we give the json module the raw string from any source\n",
    "\n",
    "with open('filename.json', 'r') as obj_file2:\n",
    "    rawstring = obj_file2.read()\n",
    "    new_object2 = json.loads(rawstring)\n",
    "    print(new_object2)\n",
    "    for item in new_object2:\n",
    "        print(item, \":\", new_object2[item])"
   ]
  },
  {
   "cell_type": "code",
   "execution_count": 2,
   "metadata": {},
   "outputs": [
    {
     "name": "stdout",
     "output_type": "stream",
     "text": [
      "{'name': 'jim', 'state': 'pa', 'zip': 15123, 'list': [12, 2, 3]}\n",
      "name : jim\n",
      "state : pa\n",
      "zip : 15123\n",
      "list : [12, 2, 3]\n"
     ]
    }
   ],
   "source": [
    "# Testing it out on my own with a classmate's JSON file, cloned down from Git repo\n",
    "\n",
    "import json \n",
    "\n",
    "with open('jsontest1.json', 'r') as carltest:\n",
    "    raw_str = carltest.read()\n",
    "    new_obj = json.loads(raw_str)\n",
    "    print(new_obj)\n",
    "    for item in new_obj:\n",
    "        print(item, \":\", new_obj[item])"
   ]
  }
 ],
 "metadata": {
  "kernelspec": {
   "display_name": "Python 3",
   "language": "python",
   "name": "python3"
  },
  "language_info": {
   "codemirror_mode": {
    "name": "ipython",
    "version": 3
   },
   "file_extension": ".py",
   "mimetype": "text/x-python",
   "name": "python",
   "nbconvert_exporter": "python",
   "pygments_lexer": "ipython3",
   "version": "3.8.3"
  }
 },
 "nbformat": 4,
 "nbformat_minor": 4
}
