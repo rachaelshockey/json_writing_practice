{
 "cells": [
  {
   "cell_type": "code",
   "execution_count": 2,
   "metadata": {},
   "outputs": [
    {
     "name": "stdout",
     "output_type": "stream",
     "text": [
      "{\"Watchmen\": \"Alan Moore\", \"Maus\": \"Art Spiegelman\", \"A Game for Swallows\": \"Zeina Abirached\", \"Embroideries\": \"Marjane Satrapi\", \"Rachel Rising\": \"Terry Moore\", \"V for Vendetta\": \"Alan Moore\", \"Fun Home\": \"Alison Bechdel\", \"genre dictionary\": {\"Watchmen\": \"Superheroes\", \"Maus\": \"Memoir\", \"Embroideries\": \"Memoir\", \"A Game for Swallows\": \"Memoir\", \"Rachel Rising\": \"Fantasy\", \"V for Vendetta\": \"Dystopian Fiction\", \"Fun Home\": \"Memoir\"}}\n"
     ]
    }
   ],
   "source": [
    "import json\n",
    "\n",
    "# building a dictionary of some graphic novels on my shelf...\n",
    "graphic_novels = {}\n",
    "\n",
    "# titles and authors\n",
    "graphic_novels['Watchmen'] = 'Alan Moore'\n",
    "graphic_novels['Maus'] = 'Art Spiegelman'\n",
    "graphic_novels['A Game for Swallows'] = 'Zeina Abirached'\n",
    "graphic_novels['Embroideries'] = 'Marjane Satrapi'\n",
    "graphic_novels['Rachel Rising'] = 'Terry Moore'\n",
    "graphic_novels['V for Vendetta'] = 'Alan Moore'\n",
    "graphic_novels['Fun Home'] = 'Alison Bechdel'\n",
    "\n",
    "# dictionary of genres for the titles above\n",
    "graphic_novels['genre dictionary'] = {'Watchmen': 'Superheroes', 'Maus': 'Memoir', 'Embroideries': 'Memoir', 'A Game \\\n",
    "for Swallows': 'Memoir', 'Rachel Rising': 'Fantasy', 'V for Vendetta': 'Dystopian Fiction', 'Fun Home': 'Memoir'}\n",
    "\n",
    "print(json.dumps(graphic_novels))\n",
    "\n",
    "# write a .json text file version of the code above \n",
    "with open('graphic_novels.json', 'w') as booktitle_file:\n",
    "    booktitle_file.write(json.dumps(graphic_novels))\n",
    "\n"
   ]
  }
 ],
 "metadata": {
  "kernelspec": {
   "display_name": "Python 3",
   "language": "python",
   "name": "python3"
  },
  "language_info": {
   "codemirror_mode": {
    "name": "ipython",
    "version": 3
   },
   "file_extension": ".py",
   "mimetype": "text/x-python",
   "name": "python",
   "nbconvert_exporter": "python",
   "pygments_lexer": "ipython3",
   "version": "3.8.3"
  }
 },
 "nbformat": 4,
 "nbformat_minor": 4
}
